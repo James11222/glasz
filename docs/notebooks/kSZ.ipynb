{
 "cells": [
  {
   "cell_type": "markdown",
   "metadata": {},
   "source": [
    "# kSZ Effect\n",
    "\n",
    "In this notebook we show how to use the `glasz` package to model the kSZ Effect profile as \n",
    "measured from [Schaan et al 2021](https://arxiv.org/abs/2009.05557). "
   ]
  },
  {
   "cell_type": "code",
   "execution_count": 28,
   "metadata": {},
   "outputs": [],
   "source": [
    "# preamble\n",
    "from __future__ import annotations\n",
    "\n",
    "import matplotlib.pyplot as plt\n",
    "import numpy as np\n",
    "import pyccl as ccl\n",
    "from init_halo_model import (  # halo model\n",
    "    a_arr,\n",
    "    bM,\n",
    "    cM_relation,\n",
    "    cosmo,\n",
    "    hmc,\n",
    "    hmd,\n",
    "    k_arr,\n",
    "    r_arr,\n",
    ")\n",
    "\n",
    "import glasz\n",
    "\n",
    "# CMASS PARAMETERS\n",
    "z_lens = 0.55  # Mean z for CMASS\n",
    "a_sf = 1 / (1 + z_lens)\n",
    "\n",
    "# constituent fractions\n",
    "fb = cosmo[\"Omega_b\"] / cosmo[\"Omega_m\"]  # Baryon fraction\n",
    "fc = cosmo[\"Omega_c\"] / cosmo[\"Omega_m\"]  # CDM fraction\n",
    "\n",
    "# define 2-halo term\n",
    "xi_mm_2h = glasz.profiles.calc_xi_mm_2h(\n",
    "    cosmo, hmd, cM_relation, hmc, k_arr, a_arr, r_arr, a_sf\n",
    ")"
   ]
  },
  {
   "cell_type": "markdown",
   "metadata": {},
   "source": [
    "## Create Profiles\n",
    "\n",
    "We first create the gas (baryon) profile which we will then use to create the $T_{\\rm kSZ}$ signal. For more information on how to do this, visit the `profiles` notebook."
   ]
  },
  {
   "cell_type": "code",
   "execution_count": 29,
   "metadata": {},
   "outputs": [],
   "source": [
    "# Halo Mass\n",
    "M_halo = 3e13\n",
    "\n",
    "# 2-halo Amplitude\n",
    "A_2h = 1.0\n",
    "\n",
    "# GNFW Parameters\n",
    "alpha = 1.0\n",
    "beta = 3.0\n",
    "gamma = 0.2\n",
    "x_c = 0.5\n",
    "\n",
    "Rb = 10 * (hmd.get_radius(cosmo, M_halo, a_sf) / a_sf)\n",
    "\n",
    "# COMPUTE GNFW AMPLITUDE\n",
    "prof_nfw = ccl.halos.HaloProfileNFW(\n",
    "    mass_def=hmd, concentration=cM_relation, truncated=False, fourier_analytic=True\n",
    ")\n",
    "\n",
    "prof_baryons = glasz.profiles.HaloProfileGNFW(\n",
    "    hmd,\n",
    "    rho0=1.0,\n",
    "    alpha=alpha,\n",
    "    beta=beta,\n",
    "    gamma=gamma,\n",
    "    x_c=x_c,\n",
    ")\n",
    "\n",
    "prof_baryons.normalize(cosmo, Rb, M_halo, a_sf, prof_nfw)\n",
    "\n",
    "\n",
    "# COMPUTE 3D DENSITY PROFILES\n",
    "def rho_2h(r):\n",
    "    return (\n",
    "        xi_mm_2h(r)\n",
    "        * bM(cosmo, M_halo, a_sf)\n",
    "        * ccl.rho_x(cosmo, a_sf, \"matter\", is_comoving=True)\n",
    "        * A_2h\n",
    "    )\n",
    "\n",
    "\n",
    "prof_baryons.rho_2h = rho_2h  # add 2-halo term to baryon profile\n",
    "\n",
    "prof_matter = glasz.profiles.MatterProfile(\n",
    "    mass_def=hmd, concentration=cM_relation, rho_2h=rho_2h\n",
    ")"
   ]
  },
  {
   "cell_type": "markdown",
   "metadata": {},
   "source": [
    "From here we use the `kSZ` subpackage of `glasz` to compute the $T_{\\rm kSZ}$ signal."
   ]
  },
  {
   "cell_type": "code",
   "execution_count": 30,
   "metadata": {},
   "outputs": [],
   "source": [
    "# COMPUTE kSZ PROFILE\n",
    "theta = np.geomspace(0.5, 6.5, 20)\n",
    "\n",
    "\n",
    "def rho_gas_3D(r):\n",
    "    \"\"\"\n",
    "    We need to be careful about comoving units here. The kSZ code assumes\n",
    "    that the density profile is in physical units. The array which it will\n",
    "    be feeding into this function is in physical units r = aχ. The CCL\n",
    "    profile assumes comoving units so we need to convert the input to\n",
    "    comoving units before passing it to the profile. Then we need to convert\n",
    "    the density profile back into physical units before returning it by\n",
    "    dividing by the scale factor a^3.\n",
    "    \"\"\"\n",
    "    return (fb * prof_baryons.real(cosmo, r / a_sf, M_halo, a_sf)) / a_sf**3\n",
    "\n",
    "\n",
    "T_kSZ_150 = glasz.kSZ.create_T_kSZ_profile(theta, z_lens, rho_gas_3D, \"f150\", cosmo)\n",
    "T_kSZ_090 = glasz.kSZ.create_T_kSZ_profile(theta, z_lens, rho_gas_3D, \"f090\", cosmo)"
   ]
  },
  {
   "cell_type": "markdown",
   "metadata": {},
   "source": [
    "We can plot the difference between the 2 frequency bands for a given profile below."
   ]
  },
  {
   "cell_type": "code",
   "execution_count": 31,
   "metadata": {},
   "outputs": [
    {
     "data": {
      "image/png": "[encoded data removed]",
      "text/plain": [
       "<Figure size 600x400 with 1 Axes>"
      ]
     },
     "metadata": {},
     "output_type": "display_data"
    }
   ],
   "source": [
    "f, ax = plt.subplots(1, 1, figsize=(6, 4))\n",
    "\n",
    "ax.semilogy(\n",
    "    theta, T_kSZ_150 * glasz.constants.sr2sqarcmin, label=\"150 GHz\", color=\"dodgerblue\"\n",
    ")\n",
    "ax.semilogy(\n",
    "    theta, T_kSZ_090 * glasz.constants.sr2sqarcmin, label=\"90 GHz\", color=\"royalblue\"\n",
    ")\n",
    "\n",
    "ax.set_xlabel(r\"$\\theta$ [arcmin]\")\n",
    "ax.set_ylabel(r\"$T_{\\rm kSZ}$ [$\\mu$K $\\cdot$ arcmin$^2$]\")\n",
    "ax.legend()\n",
    "ax.set_xlim(0.5, 6.5)\n",
    "plt.show()"
   ]
  },
  {
   "cell_type": "code",
   "execution_count": null,
   "metadata": {},
   "outputs": [],
   "source": []
  }
 ],
 "metadata": {
  "kernelspec": {
   "display_name": "glasz",
   "language": "python",
   "name": "python3"
  },
  "language_info": {
   "codemirror_mode": {
    "name": "ipython",
    "version": 3
   },
   "file_extension": ".py",
   "mimetype": "text/x-python",
   "name": "python",
   "nbconvert_exporter": "python",
   "pygments_lexer": "ipython3",
   "version": "3.11.11"
  }
 },
 "nbformat": 4,
 "nbformat_minor": 2
}
